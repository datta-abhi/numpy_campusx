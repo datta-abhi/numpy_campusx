{
 "cells": [
  {
   "cell_type": "code",
   "execution_count": 1,
   "id": "5a5deec4",
   "metadata": {},
   "outputs": [],
   "source": [
    "import numpy as np"
   ]
  },
  {
   "cell_type": "markdown",
   "id": "37382a46",
   "metadata": {},
   "source": [
    "## sorting"
   ]
  },
  {
   "cell_type": "code",
   "execution_count": 3,
   "id": "1b0face8",
   "metadata": {},
   "outputs": [
    {
     "name": "stdout",
     "output_type": "stream",
     "text": [
      "[ 2 70 94 99 13 77 12  8 64 76 41 51 43 75 90]\n",
      "\n",
      "[[-27 -75  46]\n",
      " [-56  54 -96]\n",
      " [-78  67 -86]\n",
      " [-89 -88  63]\n",
      " [ 61  85  81]]\n"
     ]
    }
   ],
   "source": [
    "a = np.random.randint(1,100,15)\n",
    "b = np.random.randint(-100,100,15).reshape(5,3)\n",
    "print(a)\n",
    "print()\n",
    "print(b)"
   ]
  },
  {
   "cell_type": "code",
   "execution_count": 4,
   "id": "e70c4b6f",
   "metadata": {},
   "outputs": [
    {
     "data": {
      "text/plain": [
       "array([ 2,  8, 12, 13, 41, 43, 51, 64, 70, 75, 76, 77, 90, 94, 99])"
      ]
     },
     "execution_count": 4,
     "metadata": {},
     "output_type": "execute_result"
    }
   ],
   "source": [
    "#sorting 1 d array\n",
    "np.sort(a)"
   ]
  },
  {
   "cell_type": "code",
   "execution_count": 5,
   "id": "a6c8e447",
   "metadata": {},
   "outputs": [
    {
     "data": {
      "text/plain": [
       "array([99, 94, 90, 77, 76, 75, 70, 64, 51, 43, 41, 13, 12,  8,  2])"
      ]
     },
     "execution_count": 5,
     "metadata": {},
     "output_type": "execute_result"
    }
   ],
   "source": [
    "# soring in descending\n",
    "np.sort(a)[::-1]"
   ]
  },
  {
   "cell_type": "code",
   "execution_count": 6,
   "id": "6b090b69",
   "metadata": {},
   "outputs": [
    {
     "data": {
      "text/plain": [
       "array([[-75, -27,  46],\n",
       "       [-96, -56,  54],\n",
       "       [-86, -78,  67],\n",
       "       [-89, -88,  63],\n",
       "       [ 61,  81,  85]])"
      ]
     },
     "execution_count": 6,
     "metadata": {},
     "output_type": "execute_result"
    }
   ],
   "source": [
    "# sorting 2d array\n",
    "np.sort(b,axis = 1)"
   ]
  },
  {
   "cell_type": "code",
   "execution_count": 7,
   "id": "0dcdf6e1",
   "metadata": {},
   "outputs": [
    {
     "data": {
      "text/plain": [
       "array([[-89, -88, -96],\n",
       "       [-78, -75, -86],\n",
       "       [-56,  54,  46],\n",
       "       [-27,  67,  63],\n",
       "       [ 61,  85,  81]])"
      ]
     },
     "execution_count": 7,
     "metadata": {},
     "output_type": "execute_result"
    }
   ],
   "source": [
    "np.sort(b,axis = 0)"
   ]
  },
  {
   "cell_type": "markdown",
   "id": "7cf2c68f",
   "metadata": {},
   "source": [
    "## append"
   ]
  },
  {
   "cell_type": "code",
   "execution_count": 8,
   "id": "95afda04",
   "metadata": {},
   "outputs": [
    {
     "data": {
      "text/plain": [
       "array([   2,   70,   94,   99,   13,   77,   12,    8,   64,   76,   41,\n",
       "         51,   43,   75,   90, 1000])"
      ]
     },
     "execution_count": 8,
     "metadata": {},
     "output_type": "execute_result"
    }
   ],
   "source": [
    "np.append(a,1000)"
   ]
  },
  {
   "cell_type": "code",
   "execution_count": 10,
   "id": "17ee8156",
   "metadata": {},
   "outputs": [
    {
     "data": {
      "text/plain": [
       "array([ -27,  -75,   46,  -56,   54,  -96,  -78,   67,  -86,  -89,  -88,\n",
       "         63,   61,   85,   81, 1000])"
      ]
     },
     "execution_count": 10,
     "metadata": {},
     "output_type": "execute_result"
    }
   ],
   "source": [
    "np.append(b,1000)"
   ]
  },
  {
   "cell_type": "code",
   "execution_count": 11,
   "id": "1413d399",
   "metadata": {},
   "outputs": [
    {
     "data": {
      "text/plain": [
       "array([[-27., -75.,  46.,   1.],\n",
       "       [-56.,  54., -96.,   1.],\n",
       "       [-78.,  67., -86.,   1.],\n",
       "       [-89., -88.,  63.,   1.],\n",
       "       [ 61.,  85.,  81.,   1.]])"
      ]
     },
     "execution_count": 11,
     "metadata": {},
     "output_type": "execute_result"
    }
   ],
   "source": [
    "np.append(b,np.ones((b.shape[0],1)),axis = 1)"
   ]
  },
  {
   "cell_type": "markdown",
   "id": "6bf4ffd6",
   "metadata": {},
   "source": [
    "## concatenate"
   ]
  },
  {
   "cell_type": "code",
   "execution_count": 16,
   "id": "28b87ef3",
   "metadata": {},
   "outputs": [],
   "source": [
    "c = np.ones((2,3))\n",
    "d = np.zeros((2,3))"
   ]
  },
  {
   "cell_type": "code",
   "execution_count": 17,
   "id": "f51633b1",
   "metadata": {},
   "outputs": [
    {
     "data": {
      "text/plain": [
       "array([[1., 1., 1., 0., 0., 0.],\n",
       "       [1., 1., 1., 0., 0., 0.]])"
      ]
     },
     "execution_count": 17,
     "metadata": {},
     "output_type": "execute_result"
    }
   ],
   "source": [
    "np.concatenate((c,d),axis = 1)  # rows concatenated to rows"
   ]
  },
  {
   "cell_type": "code",
   "execution_count": 18,
   "id": "a31dd4bf",
   "metadata": {},
   "outputs": [
    {
     "data": {
      "text/plain": [
       "array([[1., 1., 1.],\n",
       "       [1., 1., 1.],\n",
       "       [0., 0., 0.],\n",
       "       [0., 0., 0.]])"
      ]
     },
     "execution_count": 18,
     "metadata": {},
     "output_type": "execute_result"
    }
   ],
   "source": [
    "np.concatenate((c,d),axis = 0)  # rows concatenated to columns"
   ]
  },
  {
   "cell_type": "markdown",
   "id": "d0d376c2",
   "metadata": {},
   "source": [
    "## unique"
   ]
  },
  {
   "cell_type": "code",
   "execution_count": 19,
   "id": "1dede160",
   "metadata": {},
   "outputs": [
    {
     "data": {
      "text/plain": [
       "12"
      ]
     },
     "execution_count": 19,
     "metadata": {},
     "output_type": "execute_result"
    }
   ],
   "source": [
    "e = np.array([1,2,3,4,5,6,2,4,6,1,2,3])\n",
    "len(e)"
   ]
  },
  {
   "cell_type": "code",
   "execution_count": 20,
   "id": "da64b1d3",
   "metadata": {},
   "outputs": [
    {
     "data": {
      "text/plain": [
       "6"
      ]
     },
     "execution_count": 20,
     "metadata": {},
     "output_type": "execute_result"
    }
   ],
   "source": [
    "len(np.unique(e))"
   ]
  },
  {
   "cell_type": "markdown",
   "id": "098043ba",
   "metadata": {},
   "source": [
    "## where"
   ]
  },
  {
   "cell_type": "code",
   "execution_count": 21,
   "id": "a9b25f15",
   "metadata": {},
   "outputs": [
    {
     "name": "stdout",
     "output_type": "stream",
     "text": [
      "[ -9   6 -10   4   9   9  -8  -5]\n"
     ]
    }
   ],
   "source": [
    "f = np.random.randint(-10,10,8)\n",
    "print(f)"
   ]
  },
  {
   "cell_type": "code",
   "execution_count": 22,
   "id": "66aef9af",
   "metadata": {},
   "outputs": [
    {
     "data": {
      "text/plain": [
       "(array([0, 2, 6, 7], dtype=int64),)"
      ]
     },
     "execution_count": 22,
     "metadata": {},
     "output_type": "execute_result"
    }
   ],
   "source": [
    "np.where(f<0)"
   ]
  },
  {
   "cell_type": "code",
   "execution_count": 23,
   "id": "990cc350",
   "metadata": {},
   "outputs": [
    {
     "data": {
      "text/plain": [
       "array([ 81,   6, 100,   4,   9,   9,  64,  25])"
      ]
     },
     "execution_count": 23,
     "metadata": {},
     "output_type": "execute_result"
    }
   ],
   "source": [
    "np.where(f<0,f**2,f)"
   ]
  },
  {
   "cell_type": "markdown",
   "id": "362c5a3d",
   "metadata": {},
   "source": [
    "## argmax/ argmin / argwhere"
   ]
  },
  {
   "cell_type": "code",
   "execution_count": 24,
   "id": "22d891ae",
   "metadata": {},
   "outputs": [
    {
     "data": {
      "text/plain": [
       "4"
      ]
     },
     "execution_count": 24,
     "metadata": {},
     "output_type": "execute_result"
    }
   ],
   "source": [
    "np.argmax(f)"
   ]
  },
  {
   "cell_type": "code",
   "execution_count": 26,
   "id": "0ab2824e",
   "metadata": {},
   "outputs": [
    {
     "data": {
      "text/plain": [
       "2"
      ]
     },
     "execution_count": 26,
     "metadata": {},
     "output_type": "execute_result"
    }
   ],
   "source": [
    "np.argmin(f)"
   ]
  },
  {
   "cell_type": "code",
   "execution_count": 28,
   "id": "1be5ea0b",
   "metadata": {},
   "outputs": [
    {
     "data": {
      "text/plain": [
       "array([[1],\n",
       "       [2],\n",
       "       [3],\n",
       "       [6]], dtype=int64)"
      ]
     },
     "execution_count": 28,
     "metadata": {},
     "output_type": "execute_result"
    }
   ],
   "source": [
    "np.argwhere(f%2==0)"
   ]
  },
  {
   "cell_type": "code",
   "execution_count": 29,
   "id": "f81c7b94",
   "metadata": {},
   "outputs": [
    {
     "data": {
      "text/plain": [
       "array([[-27, -75,  46],\n",
       "       [-56,  54, -96],\n",
       "       [-78,  67, -86],\n",
       "       [-89, -88,  63],\n",
       "       [ 61,  85,  81]])"
      ]
     },
     "execution_count": 29,
     "metadata": {},
     "output_type": "execute_result"
    }
   ],
   "source": [
    "b"
   ]
  },
  {
   "cell_type": "code",
   "execution_count": 30,
   "id": "f17edf21",
   "metadata": {},
   "outputs": [
    {
     "data": {
      "text/plain": [
       "array([2, 1, 1, 2, 1], dtype=int64)"
      ]
     },
     "execution_count": 30,
     "metadata": {},
     "output_type": "execute_result"
    }
   ],
   "source": [
    "np.argmax(b,axis = 1)"
   ]
  },
  {
   "cell_type": "markdown",
   "id": "1cb49f5f",
   "metadata": {},
   "source": [
    "## cumsum"
   ]
  },
  {
   "cell_type": "code",
   "execution_count": 31,
   "id": "337bd12a",
   "metadata": {},
   "outputs": [],
   "source": [
    "wkt_per_match = np.random.randint(0,10,25)"
   ]
  },
  {
   "cell_type": "code",
   "execution_count": 32,
   "id": "360b3dd2",
   "metadata": {},
   "outputs": [
    {
     "data": {
      "text/plain": [
       "array([3, 2, 1, 1, 8, 9, 1, 2, 8, 1, 1, 4, 4, 8, 1, 2, 2, 8, 3, 1, 0, 3,\n",
       "       6, 1, 8])"
      ]
     },
     "execution_count": 32,
     "metadata": {},
     "output_type": "execute_result"
    }
   ],
   "source": [
    "wkt_per_match"
   ]
  },
  {
   "cell_type": "code",
   "execution_count": 33,
   "id": "dbb2523e",
   "metadata": {},
   "outputs": [],
   "source": [
    "cum_wkt_matchwise = np.cumsum(wkt_per_match)"
   ]
  },
  {
   "cell_type": "code",
   "execution_count": 34,
   "id": "063c250d",
   "metadata": {},
   "outputs": [
    {
     "data": {
      "text/plain": [
       "array([ 3,  5,  6,  7, 15, 24, 25, 27, 35, 36, 37, 41, 45, 53, 54, 56, 58,\n",
       "       66, 69, 70, 70, 73, 79, 80, 88])"
      ]
     },
     "execution_count": 34,
     "metadata": {},
     "output_type": "execute_result"
    }
   ],
   "source": [
    "cum_wkt_matchwise"
   ]
  },
  {
   "cell_type": "markdown",
   "id": "f983825f",
   "metadata": {},
   "source": [
    "### So, the bowler has taken 25 wickets after 25 matches"
   ]
  },
  {
   "cell_type": "markdown",
   "id": "ffec48e7",
   "metadata": {},
   "source": [
    "## percentile"
   ]
  },
  {
   "cell_type": "code",
   "execution_count": 40,
   "id": "5676489e",
   "metadata": {},
   "outputs": [
    {
     "name": "stdout",
     "output_type": "stream",
     "text": [
      "marks of 15 students in 3 subjects:\n",
      " [[68 64 43 54 44 67 95 42 98 87 47 75 62 70 75]\n",
      " [73 72 81 57 72 58 53 76 60 89 91 55 58 58 65]\n",
      " [53 52 99 65 40 50 84 72 58 70 75 89 99 58 85]]\n"
     ]
    }
   ],
   "source": [
    "marks = np.random.randint(40,100,45).reshape(3,15)\n",
    "print('marks of 15 students in 3 subjects:\\n',marks)"
   ]
  },
  {
   "cell_type": "code",
   "execution_count": 41,
   "id": "69ca99fe",
   "metadata": {},
   "outputs": [
    {
     "name": "stdout",
     "output_type": "stream",
     "text": [
      "[67. 65. 70.]\n",
      "[91.8 85.8 95. ]\n"
     ]
    }
   ],
   "source": [
    "# finding 50th and 90th percentile in each subject\n",
    "median = np.percentile(marks,50,axis = 1)\n",
    "top_marks = np.percentile(marks,90,axis = 1)\n",
    "print(median)\n",
    "print(top_marks)"
   ]
  },
  {
   "cell_type": "code",
   "execution_count": 42,
   "id": "0cd40192",
   "metadata": {},
   "outputs": [
    {
     "data": {
      "text/plain": [
       "array([[42, 43, 44, 47, 54, 62, 64, 67, 68, 70, 75, 75, 87, 95, 98],\n",
       "       [53, 55, 57, 58, 58, 58, 60, 65, 72, 72, 73, 76, 81, 89, 91],\n",
       "       [40, 50, 52, 53, 58, 58, 65, 70, 72, 75, 84, 85, 89, 99, 99]])"
      ]
     },
     "execution_count": 42,
     "metadata": {},
     "output_type": "execute_result"
    }
   ],
   "source": [
    "np.sort(marks,axis = 1)"
   ]
  },
  {
   "cell_type": "markdown",
   "id": "6778653a",
   "metadata": {},
   "source": [
    "## histogram"
   ]
  },
  {
   "cell_type": "code",
   "execution_count": 43,
   "id": "7f81313f",
   "metadata": {},
   "outputs": [
    {
     "name": "stdout",
     "output_type": "stream",
     "text": [
      "[68 64 43 54 44 67 95 42 98 87 47 75 62 70 75]\n"
     ]
    }
   ],
   "source": [
    "english = marks[0,:]\n",
    "print(english)"
   ]
  },
  {
   "cell_type": "code",
   "execution_count": 45,
   "id": "775562b3",
   "metadata": {},
   "outputs": [
    {
     "name": "stdout",
     "output_type": "stream",
     "text": [
      "[5 7 3]\n",
      "[42.         60.66666667 79.33333333 98.        ]\n"
     ]
    }
   ],
   "source": [
    "freq,edges = np.histogram(english,bins = 3)\n",
    "print(freq)\n",
    "print(edges)"
   ]
  },
  {
   "cell_type": "markdown",
   "id": "5c3e487f",
   "metadata": {},
   "source": [
    "## correlation coeffecient"
   ]
  },
  {
   "cell_type": "code",
   "execution_count": 47,
   "id": "8eaf5901",
   "metadata": {},
   "outputs": [
    {
     "data": {
      "text/plain": [
       "array([[1.        , 0.25344572],\n",
       "       [0.25344572, 1.        ]])"
      ]
     },
     "execution_count": 47,
     "metadata": {},
     "output_type": "execute_result"
    }
   ],
   "source": [
    "salary = np.array([20000,40000,25000,35000,60000])\n",
    "exp = np.array([1,3,2,4,2])\n",
    "\n",
    "np.corrcoef(salary,exp)"
   ]
  },
  {
   "cell_type": "markdown",
   "id": "236d9f74",
   "metadata": {},
   "source": [
    "## isin"
   ]
  },
  {
   "cell_type": "markdown",
   "id": "3f154d98",
   "metadata": {},
   "source": [
    "### searches for multiples items from an existing array"
   ]
  },
  {
   "cell_type": "code",
   "execution_count": 2,
   "id": "88fdaa0d",
   "metadata": {},
   "outputs": [],
   "source": [
    "superset = np.random.randint(1,100,30)\n",
    "\n",
    "items = [10,20,30,40,50,60,70]"
   ]
  },
  {
   "cell_type": "code",
   "execution_count": 3,
   "id": "ea4ee984",
   "metadata": {},
   "outputs": [
    {
     "name": "stdout",
     "output_type": "stream",
     "text": [
      "[88 22 79 26 64 32 41 93 30  3  9 87 24  7  3 56 62 29 56 10 69 52 80 94\n",
      " 28 98 68 38 44 84]\n"
     ]
    },
    {
     "data": {
      "text/plain": [
       "array([False, False, False, False, False, False, False, False,  True,\n",
       "       False, False, False, False, False, False, False, False, False,\n",
       "       False,  True, False, False, False, False, False, False, False,\n",
       "       False, False, False])"
      ]
     },
     "execution_count": 3,
     "metadata": {},
     "output_type": "execute_result"
    }
   ],
   "source": [
    "print(superset)\n",
    "np.isin(superset,items)"
   ]
  },
  {
   "cell_type": "code",
   "execution_count": 4,
   "id": "9c93323f",
   "metadata": {},
   "outputs": [
    {
     "data": {
      "text/plain": [
       "array([30, 10])"
      ]
     },
     "execution_count": 4,
     "metadata": {},
     "output_type": "execute_result"
    }
   ],
   "source": [
    "superset[np.isin(superset,items)]"
   ]
  },
  {
   "cell_type": "markdown",
   "id": "7e91631b",
   "metadata": {},
   "source": [
    "## put and insert"
   ]
  },
  {
   "cell_type": "code",
   "execution_count": 9,
   "id": "22327775",
   "metadata": {},
   "outputs": [],
   "source": [
    "items = np.array(items)\n",
    "np.put(items,[1,3],[1000,3000])"
   ]
  },
  {
   "cell_type": "code",
   "execution_count": 10,
   "id": "fcc338d2",
   "metadata": {},
   "outputs": [
    {
     "data": {
      "text/plain": [
       "array([  10, 1000,   30, 3000,   50,   60,   70])"
      ]
     },
     "execution_count": 10,
     "metadata": {},
     "output_type": "execute_result"
    }
   ],
   "source": [
    "items"
   ]
  },
  {
   "cell_type": "code",
   "execution_count": 13,
   "id": "50dc6daf",
   "metadata": {},
   "outputs": [
    {
     "data": {
      "text/plain": [
       "array([  10,  600, 1000,   30, 3000,   50,   60,  600,   70])"
      ]
     },
     "execution_count": 13,
     "metadata": {},
     "output_type": "execute_result"
    }
   ],
   "source": [
    "np.insert(items,[1,-1],[600,600])"
   ]
  },
  {
   "cell_type": "code",
   "execution_count": null,
   "id": "30b5752f",
   "metadata": {},
   "outputs": [],
   "source": []
  }
 ],
 "metadata": {
  "kernelspec": {
   "display_name": "Python 3 (ipykernel)",
   "language": "python",
   "name": "python3"
  },
  "language_info": {
   "codemirror_mode": {
    "name": "ipython",
    "version": 3
   },
   "file_extension": ".py",
   "mimetype": "text/x-python",
   "name": "python",
   "nbconvert_exporter": "python",
   "pygments_lexer": "ipython3",
   "version": "3.11.4"
  }
 },
 "nbformat": 4,
 "nbformat_minor": 5
}
