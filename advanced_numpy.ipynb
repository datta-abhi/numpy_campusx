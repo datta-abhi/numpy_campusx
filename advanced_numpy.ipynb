{
 "cells": [
  {
   "cell_type": "code",
   "execution_count": 1,
   "id": "35f654ef",
   "metadata": {},
   "outputs": [],
   "source": [
    "import numpy as np\n",
    "import sys\n",
    "import time"
   ]
  },
  {
   "cell_type": "code",
   "execution_count": 7,
   "id": "24d6a6f8",
   "metadata": {},
   "outputs": [],
   "source": [
    "# start = time.time()"
   ]
  },
  {
   "cell_type": "markdown",
   "id": "b715045b",
   "metadata": {},
   "source": [
    "## Python list performance"
   ]
  },
  {
   "cell_type": "code",
   "execution_count": 36,
   "id": "094c41e4",
   "metadata": {},
   "outputs": [
    {
     "name": "stdout",
     "output_type": "stream",
     "text": [
      "10000000\n",
      "10000000\n"
     ]
    }
   ],
   "source": [
    "a = list(range(10000000))\n",
    "b = list(range(10000000,20000000))\n",
    "print(len(a))\n",
    "print(len(b))"
   ]
  },
  {
   "cell_type": "code",
   "execution_count": 37,
   "id": "2441830c",
   "metadata": {},
   "outputs": [
    {
     "name": "stdout",
     "output_type": "stream",
     "text": [
      "1360.3050708770752\n"
     ]
    }
   ],
   "source": [
    "start = time.time()\n",
    "c = [a[i]+b[i] for i in range(len(a))]\n",
    "print((time.time() - start)*1000)"
   ]
  },
  {
   "cell_type": "code",
   "execution_count": 38,
   "id": "a63b117e",
   "metadata": {},
   "outputs": [],
   "source": [
    "a1 = np.array(a)\n",
    "b1 = np.array(b)"
   ]
  },
  {
   "cell_type": "code",
   "execution_count": 39,
   "id": "bfe0ae28",
   "metadata": {},
   "outputs": [
    {
     "name": "stdout",
     "output_type": "stream",
     "text": [
      "18.811702728271484\n"
     ]
    }
   ],
   "source": [
    "start = time.time()\n",
    "c1 = a1+b1\n",
    "print((time.time() - start)*1000)"
   ]
  },
  {
   "cell_type": "code",
   "execution_count": 42,
   "id": "31cc1e32",
   "metadata": {},
   "outputs": [
    {
     "name": "stdout",
     "output_type": "stream",
     "text": [
      "80000056\n",
      "40000112\n"
     ]
    }
   ],
   "source": [
    "print(sys.getsizeof(a))\n",
    "print(sys.getsizeof(a1))"
   ]
  },
  {
   "cell_type": "markdown",
   "id": "43b374b8",
   "metadata": {},
   "source": [
    "## Broadcasting"
   ]
  },
  {
   "cell_type": "code",
   "execution_count": 44,
   "id": "a5e4d2df",
   "metadata": {},
   "outputs": [
    {
     "name": "stdout",
     "output_type": "stream",
     "text": [
      "[[1 2 3]\n",
      " [4 5 6]]\n",
      "\n",
      "[100 200 300]\n"
     ]
    }
   ],
   "source": [
    "a = np.arange(1,7).reshape(2,3)\n",
    "b = 100*np.arange(1,4)\n",
    "print(a)\n",
    "print()\n",
    "print(b)"
   ]
  },
  {
   "cell_type": "code",
   "execution_count": 45,
   "id": "c1bd03c9",
   "metadata": {},
   "outputs": [
    {
     "data": {
      "text/plain": [
       "array([[101, 202, 303],\n",
       "       [104, 205, 306]])"
      ]
     },
     "execution_count": 45,
     "metadata": {},
     "output_type": "execute_result"
    }
   ],
   "source": [
    "a+b"
   ]
  },
  {
   "cell_type": "code",
   "execution_count": 46,
   "id": "5771bedc",
   "metadata": {},
   "outputs": [],
   "source": [
    "c = b.reshape(-1,1)"
   ]
  },
  {
   "cell_type": "code",
   "execution_count": 48,
   "id": "58267503",
   "metadata": {},
   "outputs": [
    {
     "data": {
      "text/plain": [
       "array([[100],\n",
       "       [200],\n",
       "       [300]])"
      ]
     },
     "execution_count": 48,
     "metadata": {},
     "output_type": "execute_result"
    }
   ],
   "source": [
    "c"
   ]
  },
  {
   "cell_type": "code",
   "execution_count": 47,
   "id": "044248a9",
   "metadata": {},
   "outputs": [
    {
     "data": {
      "text/plain": [
       "array([[200, 300, 400],\n",
       "       [300, 400, 500],\n",
       "       [400, 500, 600]])"
      ]
     },
     "execution_count": 47,
     "metadata": {},
     "output_type": "execute_result"
    }
   ],
   "source": [
    "b+c"
   ]
  },
  {
   "cell_type": "markdown",
   "id": "1b84f487",
   "metadata": {},
   "source": [
    "## Sigmoid function using numpy"
   ]
  },
  {
   "cell_type": "code",
   "execution_count": 51,
   "id": "53a75e07",
   "metadata": {},
   "outputs": [],
   "source": [
    "def sigmoid(x):\n",
    "    return 1/(1+np.exp(-x))"
   ]
  },
  {
   "cell_type": "code",
   "execution_count": 52,
   "id": "5738c4d4",
   "metadata": {},
   "outputs": [],
   "source": [
    "a = np.arange(-5,6)\n",
    "sigma_a = sigmoid(a)"
   ]
  },
  {
   "cell_type": "code",
   "execution_count": 53,
   "id": "0a46a5f4",
   "metadata": {},
   "outputs": [],
   "source": [
    "import matplotlib.pyplot as plt"
   ]
  },
  {
   "cell_type": "code",
   "execution_count": 54,
   "id": "6053cc29",
   "metadata": {},
   "outputs": [
    {
     "data": {
      "text/plain": [
       "[<matplotlib.lines.Line2D at 0x1cf82caa810>]"
      ]
     },
     "execution_count": 54,
     "metadata": {},
     "output_type": "execute_result"
    },
    {
     "data": {
      "image/png": "[encoded data removed]",
      "text/plain": [
       "<Figure size 640x480 with 1 Axes>"
      ]
     },
     "metadata": {},
     "output_type": "display_data"
    }
   ],
   "source": [
    "plt.plot(a,sigma_a)"
   ]
  },
  {
   "cell_type": "markdown",
   "id": "4dc0412b",
   "metadata": {},
   "source": [
    "## root mean squared error"
   ]
  },
  {
   "cell_type": "code",
   "execution_count": 2,
   "id": "f49b3e6a",
   "metadata": {},
   "outputs": [
    {
     "name": "stdout",
     "output_type": "stream",
     "text": [
      "[ 1  7 13 19 25 31 37 43 49]\n"
     ]
    }
   ],
   "source": [
    "actuals = np.arange(1,50,6)\n",
    "print(actuals)"
   ]
  },
  {
   "cell_type": "code",
   "execution_count": 3,
   "id": "4f3433a0",
   "metadata": {},
   "outputs": [],
   "source": [
    "predicted = actuals + 5*np.random.random(actuals.shape)"
   ]
  },
  {
   "cell_type": "code",
   "execution_count": 4,
   "id": "c208163b",
   "metadata": {},
   "outputs": [
    {
     "name": "stdout",
     "output_type": "stream",
     "text": [
      "[ 1  7 13 19 25 31 37 43 49]\n",
      "\n",
      "[ 4.38044037  8.26907863 17.153263   23.8437194  27.01762721 32.72918105\n",
      " 41.85010316 46.04270806 51.34650483]\n"
     ]
    }
   ],
   "source": [
    "print(actuals)\n",
    "print()\n",
    "print(predicted)"
   ]
  },
  {
   "cell_type": "code",
   "execution_count": 10,
   "id": "55d4ead1",
   "metadata": {},
   "outputs": [],
   "source": [
    "def rmse(act,pred):\n",
    "    error_square = np.square(act - pred)\n",
    "    mse = np.mean(error_square)\n",
    "    rmse = np.sqrt(mse)\n",
    "    return np.round(rmse,4)"
   ]
  },
  {
   "cell_type": "code",
   "execution_count": 11,
   "id": "f85fe478",
   "metadata": {},
   "outputs": [
    {
     "data": {
      "text/plain": [
       "3.3183"
      ]
     },
     "execution_count": 11,
     "metadata": {},
     "output_type": "execute_result"
    }
   ],
   "source": [
    "rmse(actuals,predicted)"
   ]
  },
  {
   "cell_type": "code",
   "execution_count": 12,
   "id": "fbbcb4b2",
   "metadata": {},
   "outputs": [
    {
     "data": {
      "text/plain": [
       "2.0976"
      ]
     },
     "execution_count": 12,
     "metadata": {},
     "output_type": "execute_result"
    }
   ],
   "source": [
    "a1 = np.array([1, 2, 3, 4, 5])\n",
    "a2 = np.array([2, 3, 5, 4, 1])\n",
    "rmse(a1,a2)"
   ]
  },
  {
   "cell_type": "code",
   "execution_count": null,
   "id": "bd72b1e0",
   "metadata": {},
   "outputs": [],
   "source": []
  }
 ],
 "metadata": {
  "kernelspec": {
   "display_name": "Python 3 (ipykernel)",
   "language": "python",
   "name": "python3"
  },
  "language_info": {
   "codemirror_mode": {
    "name": "ipython",
    "version": 3
   },
   "file_extension": ".py",
   "mimetype": "text/x-python",
   "name": "python",
   "nbconvert_exporter": "python",
   "pygments_lexer": "ipython3",
   "version": "3.11.4"
  }
 },
 "nbformat": 4,
 "nbformat_minor": 5
}
